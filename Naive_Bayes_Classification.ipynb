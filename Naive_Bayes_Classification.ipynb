{
  "nbformat": 4,
  "nbformat_minor": 0,
  "metadata": {
    "colab": {
      "provenance": []
    },
    "kernelspec": {
      "name": "python3",
      "display_name": "Python 3"
    },
    "language_info": {
      "name": "python"
    }
  },
  "cells": [
    {
      "cell_type": "code",
      "execution_count": 12,
      "metadata": {
        "id": "IjVPL2yt1OOS"
      },
      "outputs": [],
      "source": [
        "import math\n",
        "import random\n",
        "import pandas as pd\n",
        "import numpy as np"
      ]
    },
    {
      "cell_type": "code",
      "source": [
        "def encode_class(mydata):\n",
        "    classes = []\n",
        "    for i in range(len(mydata)):\n",
        "        if mydata[i][-1] not in classes:\n",
        "            classes.append(mydata[i][-1])\n",
        "    for i in range(len(classes)):\n",
        "        for j in range(len(mydata)):\n",
        "            if mydata[j][-1] == classes[i]:\n",
        "                mydata[j][-1] = i\n",
        "    return mydata"
      ],
      "metadata": {
        "id": "HqtrGIu12Doz"
      },
      "execution_count": 2,
      "outputs": []
    },
    {
      "cell_type": "code",
      "source": [
        "def splitting(mydata, ratio):\n",
        "    train_num = int(len(mydata) * ratio)\n",
        "    train = []\n",
        "    test = list(mydata)\n",
        "    while len(train) < train_num:\n",
        "        index = random.randrange(len(test))\n",
        "        train.append(test.pop(index))\n",
        "    return train, test"
      ],
      "metadata": {
        "id": "krp08ol42GKJ"
      },
      "execution_count": 3,
      "outputs": []
    },
    {
      "cell_type": "code",
      "source": [
        "def groupUnderClass(mydata):\n",
        "    data_dict = {}\n",
        "    for i in range(len(mydata)):\n",
        "        if mydata[i][-1] not in data_dict:\n",
        "            data_dict[mydata[i][-1]] = []\n",
        "        data_dict[mydata[i][-1]].append(mydata[i])\n",
        "    return data_dict"
      ],
      "metadata": {
        "id": "xsOlVBsf2Idc"
      },
      "execution_count": 4,
      "outputs": []
    },
    {
      "cell_type": "code",
      "source": [
        "def MeanAndStdDev(numbers):\n",
        "    avg = np.mean(numbers)\n",
        "    stddev = np.std(numbers)\n",
        "    return avg, stddev\n",
        "\n",
        "def MeanAndStdDevForClass(mydata):\n",
        "    info = {}\n",
        "    data_dict = groupUnderClass(mydata)\n",
        "    for classValue, instances in data_dict.items():\n",
        "        info[classValue] = [MeanAndStdDev(attribute) for attribute in zip(*instances)]\n",
        "    return info"
      ],
      "metadata": {
        "id": "34DcuDPA2KSh"
      },
      "execution_count": 5,
      "outputs": []
    },
    {
      "cell_type": "code",
      "source": [
        "def calculateGaussianProbability(x, mean, stdev):\n",
        "    epsilon = 1e-10\n",
        "    expo = math.exp(-(math.pow(x - mean, 2) / (2 * math.pow(stdev + epsilon, 2))))\n",
        "    return (1 / (math.sqrt(2 * math.pi) * (stdev + epsilon))) * expo\n",
        "\n",
        "def calculateClassProbabilities(info, test):\n",
        "    probabilities = {}\n",
        "    for classValue, classSummaries in info.items():\n",
        "        probabilities[classValue] = 1\n",
        "        for i in range(len(classSummaries)):\n",
        "            mean, std_dev = classSummaries[i]\n",
        "            x = test[i]\n",
        "            probabilities[classValue] *= calculateGaussianProbability(x, mean, std_dev)\n",
        "    return probabilities"
      ],
      "metadata": {
        "id": "M1BNj9fO2MrE"
      },
      "execution_count": 6,
      "outputs": []
    },
    {
      "cell_type": "code",
      "source": [
        "def predict(info, test):\n",
        "    probabilities = calculateClassProbabilities(info, test)\n",
        "    bestLabel = max(probabilities, key=probabilities.get)\n",
        "    return bestLabel\n",
        "\n",
        "def getPredictions(info, test):\n",
        "    predictions = [predict(info, instance) for instance in test]\n",
        "    return predictions"
      ],
      "metadata": {
        "id": "K-pK5j-Y2OAH"
      },
      "execution_count": 7,
      "outputs": []
    },
    {
      "cell_type": "code",
      "source": [
        "def accuracy_rate(test, predictions):\n",
        "    correct = sum(1 for i in range(len(test)) if test[i][-1] == predictions[i])\n",
        "    return (correct / float(len(test))) * 100.0"
      ],
      "metadata": {
        "id": "BMcYQ_Ud2QFy"
      },
      "execution_count": 8,
      "outputs": []
    },
    {
      "source": [
        "filename = '/content/pima-indians-diabetes.csv'\n",
        "df = pd.read_csv(filename, sep='\\t', header=None) # Added sep='\\t' to specify tab delimiter and header=None to indicate no header row.\n",
        "mydata = df.values.tolist()\n",
        "\n",
        "mydata = encode_class(mydata)\n",
        "for i in range(len(mydata)):\n",
        "    for j in range(len(mydata[i]) - 1):\n",
        "        mydata[i][j] = float(mydata[i][j])"
      ],
      "cell_type": "code",
      "metadata": {
        "id": "u3fSTTGw3xd9"
      },
      "execution_count": 15,
      "outputs": []
    },
    {
      "cell_type": "code",
      "source": [
        "# Split the data into training and testing sets\n",
        "ratio = 0.7\n",
        "train_data, test_data = splitting(mydata, ratio)\n",
        "\n",
        "print('Total number of examples:', len(mydata))\n",
        "print('Training examples:', len(train_data))\n",
        "print('Test examples:', len(test_data))"
      ],
      "metadata": {
        "colab": {
          "base_uri": "https://localhost:8080/"
        },
        "id": "-iDF6u9v2SZN",
        "outputId": "a1300b2b-748b-4009-fcee-925749d340db"
      },
      "execution_count": 16,
      "outputs": [
        {
          "output_type": "stream",
          "name": "stdout",
          "text": [
            "Total number of examples: 777\n",
            "Training examples: 543\n",
            "Test examples: 234\n"
          ]
        }
      ]
    },
    {
      "cell_type": "code",
      "source": [
        "# Train the model\n",
        "info = MeanAndStdDevForClass(train_data)\n",
        "\n",
        "# Test the model\n",
        "predictions = getPredictions(info, test_data)\n",
        "accuracy = accuracy_rate(test_data, predictions)\n",
        "print('Accuracy of the model:', accuracy)"
      ],
      "metadata": {
        "collapsed": true,
        "id": "QqHJN67s39KH"
      },
      "execution_count": null,
      "outputs": []
    },
    {
      "cell_type": "code",
      "source": [],
      "metadata": {
        "id": "ZZNA5XJJ4Aai"
      },
      "execution_count": null,
      "outputs": []
    }
  ]
}